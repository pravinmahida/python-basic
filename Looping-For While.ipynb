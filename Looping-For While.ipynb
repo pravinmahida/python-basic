{
 "cells": [
  {
   "cell_type": "code",
   "execution_count": null,
   "metadata": {},
   "outputs": [],
   "source": [
    "for i in range(1,5):\n",
    "    print(i)\n"
   ]
  },
  {
   "cell_type": "code",
   "execution_count": null,
   "metadata": {},
   "outputs": [],
   "source": [
    "for i in range(1,10,2):\n",
    "    print(i) "
   ]
  },
  {
   "cell_type": "code",
   "execution_count": null,
   "metadata": {},
   "outputs": [],
   "source": [
    "#Looping on a string\n",
    "\n",
    "my_string = \"Mary had a little lamb\"\n",
    "\n",
    "for alphabet in my_string:\n",
    "    print(alphabet)\n"
   ]
  },
  {
   "cell_type": "code",
   "execution_count": null,
   "metadata": {},
   "outputs": [],
   "source": [
    "#pattern to print-\n",
    "\n",
    "*\n",
    "* *\n",
    "* * *\n",
    "* * * * \n",
    "* * * * *\n",
    "* * * *\n",
    "* * *\n",
    "* *\n",
    "*\n"
   ]
  },
  {
   "cell_type": "code",
   "execution_count": null,
   "metadata": {},
   "outputs": [],
   "source": [
    "str1=''\n",
    "for i in range(0,9):\n",
    "    if i<5:\n",
    "        str1 += '* '\n",
    "        print(str1)\n",
    "    elif i>4:\n",
    "        str1 = str1[:-2]\n",
    "        print(str1)\n"
   ]
  },
  {
   "cell_type": "code",
   "execution_count": null,
   "metadata": {},
   "outputs": [],
   "source": [
    "my_string = \"Mary had a little lamb\"\n",
    "\n",
    "for n,alphabet in enumerate(my_string):\n",
    "    print(alphabet, n)\n"
   ]
  },
  {
   "cell_type": "code",
   "execution_count": null,
   "metadata": {},
   "outputs": [],
   "source": [
    "vowels =''\n",
    "for alphabet in my_string:\n",
    "    if alphabet in 'aeiou':\n",
    "        vowels += ' ' + alphabet\n",
    "print(vowels)\n"
   ]
  },
  {
   "cell_type": "code",
   "execution_count": null,
   "metadata": {},
   "outputs": [],
   "source": [
    "nums = '838848237890237388221'\n",
    "all_even=''\n",
    "all_odd = ''\n",
    "for number in nums:\n",
    "    if int(number)%2 == 0:\n",
    "        all_even += number\n",
    "    else:\n",
    "        all_odd += number\n",
    "\n",
    "print('All Evens are : '+ all_even + ' & All odds are : '+ all_odd)\n"
   ]
  },
  {
   "cell_type": "code",
   "execution_count": null,
   "metadata": {
    "collapsed": true
   },
   "outputs": [],
   "source": [
    "list_of_inventories = ['Apple', 'Banana', 'Potato', 'Mango', 'Onion', 'Toothpaste']\n",
    "fruits = ['Apple','Banana','Mango','Orange','Strawberry']\n",
    "vegetables = ['Potato', 'Onion','Cucumber', 'Celery']\n"
   ]
  },
  {
   "cell_type": "code",
   "execution_count": null,
   "metadata": {},
   "outputs": [],
   "source": [
    "#count of fruits in inventory list\n",
    "count_fruits = 0\n",
    "#count of vegetables in inventory list\n",
    "count_veg = 0\n",
    "for item in list_of_inventories:\n",
    "    print(item)\n",
    "    if item in fruits:\n",
    "        count_fruits+=1\n",
    "    elif item in vegetables:\n",
    "        count_veg +=1\n",
    "    else:\n",
    "        continue\n",
    "print(count_fruits)\n",
    "print(count_veg)"
   ]
  },
  {
   "cell_type": "code",
   "execution_count": null,
   "metadata": {},
   "outputs": [],
   "source": [
    "sentence = \"Is Python simpler than R ?\"\n",
    "for word in sentence.split():\n",
    "    print(word)\n"
   ]
  },
  {
   "cell_type": "code",
   "execution_count": null,
   "metadata": {},
   "outputs": [],
   "source": [
    "\n",
    "#sentence check\n",
    "tweet = '#beautiful #morning it is looking good'\n",
    "\n",
    "for word in tweet.split():\n",
    "    if word.startswith('#'):\n",
    "        print(word[1:])\n"
   ]
  },
  {
   "cell_type": "code",
   "execution_count": null,
   "metadata": {
    "collapsed": true
   },
   "outputs": [],
   "source": [
    "students_data = {1:['Shivam Bansal', 24] , 2:['Udit Bansal',25], 3:['Sonam Gupta', 26], 4:['Saif Ansari',24], 5:['Huzefa Calcuttawala',27]}\n"
   ]
  },
  {
   "cell_type": "code",
   "execution_count": null,
   "metadata": {},
   "outputs": [],
   "source": [
    "for key, val in students_data.items():\n",
    "    print(key, val)\n"
   ]
  },
  {
   "cell_type": "code",
   "execution_count": null,
   "metadata": {},
   "outputs": [],
   "source": [
    "for key in students_data.keys():\n",
    "    print(key)\n"
   ]
  },
  {
   "cell_type": "code",
   "execution_count": null,
   "metadata": {},
   "outputs": [],
   "source": [
    "for val in students_data.values():\n",
    "    print(val)\n"
   ]
  },
  {
   "cell_type": "code",
   "execution_count": null,
   "metadata": {},
   "outputs": [],
   "source": [
    "count = 0\n",
    "for key, val in students_data.items():\n",
    "    if val[1]<25:\n",
    "        count+=1\n",
    "\n",
    "print(count)"
   ]
  },
  {
   "cell_type": "code",
   "execution_count": 1,
   "metadata": {},
   "outputs": [
    {
     "name": "stdout",
     "output_type": "stream",
     "text": [
      "21\n",
      "22\n",
      "23\n",
      "24\n",
      "25\n",
      "26\n",
      "27\n",
      "28\n",
      "29\n",
      "30\n",
      "31\n",
      "32\n",
      "33\n",
      "34\n",
      "35\n",
      "36\n",
      "37\n",
      "38\n",
      "39\n",
      "40\n",
      "41\n",
      "42\n",
      "43\n",
      "44\n",
      "45\n",
      "46\n",
      "47\n",
      "48\n",
      "49\n",
      "50\n",
      "51\n",
      "1085\n"
     ]
    }
   ],
   "source": [
    "#while loop\n",
    "start =20\n",
    "total= 0\n",
    "while start<51:\n",
    "    total+=start\n",
    "    start+=1\n",
    "    print(start)\n",
    "\n",
    "print(total)\n",
    "\n"
   ]
  },
  {
   "cell_type": "code",
   "execution_count": 2,
   "metadata": {},
   "outputs": [
    {
     "name": "stdout",
     "output_type": "stream",
     "text": [
      "0\n",
      "1\n",
      "2\n"
     ]
    }
   ],
   "source": [
    "d = {0: 'Fish', 1: 'Bird', 2: 'Mammal'}\n",
    "for i in d:\n",
    "    print(i)"
   ]
  },
  {
   "cell_type": "code",
   "execution_count": 3,
   "metadata": {},
   "outputs": [
    {
     "name": "stdout",
     "output_type": "stream",
     "text": [
      "None\n",
      "None\n",
      "None\n"
     ]
    }
   ],
   "source": [
    "d = {0, 1, 2}\n",
    "for x in d:\n",
    "    print(d.add(x))"
   ]
  },
  {
   "cell_type": "code",
   "execution_count": 4,
   "metadata": {},
   "outputs": [
    {
     "name": "stdout",
     "output_type": "stream",
     "text": [
      "1 is not divisible by 3\n",
      "2 is not divisible by 3\n",
      "3 is Divisible by 3\n"
     ]
    }
   ],
   "source": [
    "for i in range(1,6):\n",
    "    if (i % 3 == 0):\n",
    "        print(str(i) + \" is Divisible by 3\")\n",
    "        break\n",
    "\n",
    "    print(str(i) + \" is not divisible by 3\")"
   ]
  },
  {
   "cell_type": "code",
   "execution_count": 5,
   "metadata": {},
   "outputs": [
    {
     "name": "stdout",
     "output_type": "stream",
     "text": [
      "1 is not divisible by 3\n",
      "2 is not divisible by 3\n",
      "3 is Divisible by 3\n",
      "4 is not divisible by 3\n",
      "5 is not divisible by 3\n"
     ]
    }
   ],
   "source": [
    "for i in range(1,6):\n",
    "    if (i % 3 == 0):\n",
    "        print(str(i) + \" is Divisible by 3\")\n",
    "        continue\n",
    "\n",
    "    print(str(i) + \" is not divisible by 3\")"
   ]
  },
  {
   "cell_type": "code",
   "execution_count": 6,
   "metadata": {},
   "outputs": [
    {
     "name": "stdout",
     "output_type": "stream",
     "text": [
      "1 is not divisible by 3\n",
      "2 is not divisible by 3\n",
      "3 is Divisible by 3\n",
      "3 is not divisible by 3\n",
      "4 is not divisible by 3\n",
      "5 is not divisible by 3\n"
     ]
    }
   ],
   "source": [
    "for i in range(1,6):\n",
    "    if (i % 3 == 0):\n",
    "        print(str(i) + \" is Divisible by 3\")\n",
    "        pass\n",
    "\n",
    "    print(str(i) + \" is not divisible by 3\")\n"
   ]
  },
  {
   "cell_type": "code",
   "execution_count": null,
   "metadata": {},
   "outputs": [],
   "source": []
  }
 ],
 "metadata": {
  "anaconda-cloud": {},
  "kernelspec": {
   "display_name": "Python 3",
   "language": "python",
   "name": "python3"
  },
  "language_info": {
   "codemirror_mode": {
    "name": "ipython",
    "version": 3
   },
   "file_extension": ".py",
   "mimetype": "text/x-python",
   "name": "python",
   "nbconvert_exporter": "python",
   "pygments_lexer": "ipython3",
   "version": "3.7.1"
  }
 },
 "nbformat": 4,
 "nbformat_minor": 1
}
